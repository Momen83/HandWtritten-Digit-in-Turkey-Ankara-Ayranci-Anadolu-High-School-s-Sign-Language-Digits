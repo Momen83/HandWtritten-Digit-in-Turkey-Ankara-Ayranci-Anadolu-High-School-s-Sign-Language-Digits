{
 "cells": [
  {
   "cell_type": "markdown",
   "id": "d77411a8",
   "metadata": {},
   "source": [
    "# Import libraries "
   ]
  },
  {
   "cell_type": "code",
   "execution_count": 1,
   "id": "d549d69b",
   "metadata": {},
   "outputs": [],
   "source": [
    "import tensorflow as ts\n",
    "from tensorflow import keras\n",
    "import matplotlib.pyplot as plt\n",
    "%matplotlib inline\n",
    "import numpy as np\n",
    "import seaborn as sn\n",
    "import os\n",
    "os.environ['KMP_DUPLICATE_LIB_OK']='True'\n",
    "from PIL import Image\n",
    "import warnings\n",
    "warnings.filterwarnings('ignore')\n",
    "import random\n",
    "random.seed(10)\n",
    "from os import listdir\n",
    "from keras.utils import to_categorical\n",
    "from skimage.io import imread\n",
    "from os import listdir\n",
    "from matplotlib.pyplot import imread\n",
    "from skimage.transform import resize\n",
    "from sklearn.model_selection import train_test_split\n",
    "from tensorflow.keras import datasets, layers, models\n",
    "from sklearn.model_selection import KFold"
   ]
  },
  {
   "cell_type": "code",
   "execution_count": 2,
   "id": "04604ed0-effd-47b2-b515-d58020410c60",
   "metadata": {},
   "outputs": [],
   "source": [
    "# Settings:\n",
    "img_size = 64\n",
    "grayscale_images = True\n",
    "num_class = 10\n",
    "test_size = 0.2"
   ]
  },
  {
   "cell_type": "markdown",
   "id": "1ff412a4",
   "metadata": {},
   "source": [
    "# Load Data"
   ]
  },
  {
   "cell_type": "code",
   "execution_count": 3,
   "id": "f797ad7a-0cc7-4d35-ad55-6bf7e27cc276",
   "metadata": {},
   "outputs": [],
   "source": [
    "def get_img(data_path):\n",
    "    # Getting image array from path:\n",
    "    img = imread(data_path)\n",
    "    img = resize(img, (img_size, img_size, 1 if grayscale_images else 3))\n",
    "    return img"
   ]
  },
  {
   "cell_type": "code",
   "execution_count": 4,
   "id": "fd35a72a-540d-4c62-b29f-022ae28a5353",
   "metadata": {},
   "outputs": [],
   "source": [
    "def get_dataset(dataset_path='Dataset'):\n",
    "    # Getting all data from data path:\n",
    "    labels = listdir(dataset_path)  # Geting labels\n",
    "    X = []\n",
    "    Y = []\n",
    "    Z = []\n",
    "    for i, label in enumerate(labels):\n",
    "        datas_path = dataset_path + '/' + label\n",
    "        for data in listdir(datas_path):\n",
    "            img = get_img(datas_path + '/' + data)\n",
    "            #plt.matshow(img)\n",
    "            X.append(img)\n",
    "            Z.append(img)\n",
    "            Y.append(i)\n",
    "        # Create dateset:\n",
    "    X = np.array(X).astype('float32')\n",
    "    Y = np.array(Y).astype('float32')\n",
    "    return X,Y,Z"
   ]
  },
  {
   "cell_type": "code",
   "execution_count": 5,
   "id": "060cc5b5-4b3b-47be-a97e-1f8cba793ee1",
   "metadata": {},
   "outputs": [],
   "source": [
    "X , Y , img  = get_dataset('D:\\Sign-Language-Digits-Dataset-master\\Dataset')\n",
    "x_train, x_test, y_train, y_test = train_test_split(X, Y, test_size=test_size, random_state=32)"
   ]
  },
  {
   "cell_type": "code",
   "execution_count": 6,
   "id": "77782edd-2638-4400-979b-2f093f3fcfd2",
   "metadata": {},
   "outputs": [
    {
     "name": "stdout",
     "output_type": "stream",
     "text": [
      "(1649, 64, 64, 1)\n"
     ]
    }
   ],
   "source": [
    "print(x_train.shape)\n",
    "x_train = x_train.reshape(len(x_train),64*64)\n",
    "x_test = x_test.reshape(len(x_test),64*64)"
   ]
  },
  {
   "cell_type": "code",
   "execution_count": 7,
   "id": "53710fd2",
   "metadata": {},
   "outputs": [],
   "source": [
    "from keras import backend as K\n",
    "\n",
    "def recall_m(y_true, y_pred):\n",
    "    true_positives = K.sum(K.round(K.clip(y_true * y_pred, 0, 1)))\n",
    "    possible_positives = K.sum(K.round(K.clip(y_true, 0, 1)))\n",
    "    recall = true_positives / (possible_positives + K.epsilon())\n",
    "    return recall\n",
    "def precision_m(y_true, y_pred):\n",
    "    true_positives = K.sum(K.round(K.clip(y_true * y_pred, 0, 1)))\n",
    "    predicted_positives = K.sum(K.round(K.clip(y_pred, 0, 1)))\n",
    "    precision = true_positives / (predicted_positives + K.epsilon())\n",
    "    return precision\n",
    "\n",
    "def f1_m(y_true, y_pred):\n",
    "    precision = precision_m(y_true, y_pred)\n",
    "    recall = recall_m(y_true, y_pred)\n",
    "    return 2*((precision*recall)/(precision+recall+K.epsilon()))"
   ]
  },
  {
   "cell_type": "markdown",
   "id": "64fa7bef",
   "metadata": {},
   "source": [
    "## First Neural Network architectures"
   ]
  },
  {
   "cell_type": "code",
   "execution_count": 8,
   "id": "b1eee6dc",
   "metadata": {},
   "outputs": [],
   "source": [
    "def define_model1():\n",
    "    model = keras.Sequential([\n",
    "    keras.layers.Dense(150, input_shape=(64*64,), activation='relu'),\n",
    "    keras.layers.Dense(150, activation='relu'),\n",
    "    keras.layers.Dense(10, activation='sigmoid')\n",
    "])\n",
    "\n",
    "    model.compile(optimizer='adam',\n",
    "              loss='sparse_categorical_crossentropy',\n",
    "              metrics=['accuracy' , f1_m])\n",
    "\n",
    "    return model"
   ]
  },
  {
   "cell_type": "markdown",
   "id": "9f14c895",
   "metadata": {},
   "source": [
    "## Second Neural Network architectures"
   ]
  },
  {
   "cell_type": "code",
   "execution_count": 9,
   "id": "0ae20f6a",
   "metadata": {},
   "outputs": [],
   "source": [
    "def define_model2():\n",
    "    model = keras.Sequential([\n",
    "    keras.layers.Dense(120, input_shape=(64*64,), activation='relu'),\n",
    "    keras.layers.Dense(160, activation='relu'),\n",
    "    keras.layers.Dense(80, activation='relu'),\n",
    "    keras.layers.Dense(10, activation='sigmoid')\n",
    "])\n",
    "\n",
    "    model.compile(optimizer='adam',\n",
    "              loss='sparse_categorical_crossentropy',\n",
    "              metrics=['accuracy',f1_m])\n",
    "\n",
    "   \n",
    "    return model"
   ]
  },
  {
   "cell_type": "code",
   "execution_count": 10,
   "id": "27824b29-66fa-471a-9238-9f7841b18480",
   "metadata": {
    "scrolled": true
   },
   "outputs": [
    {
     "name": "stdout",
     "output_type": "stream",
     "text": [
      "Epoch 1/50\n",
      "52/52 [==============================] - 1s 5ms/step - loss: 2.3706 - accuracy: 0.1449 - f1_m: 3.1501\n",
      "Epoch 2/50\n",
      "52/52 [==============================] - 0s 5ms/step - loss: 2.1657 - accuracy: 0.2213 - f1_m: 3.4821\n",
      "Epoch 3/50\n",
      "52/52 [==============================] - 0s 5ms/step - loss: 1.9614 - accuracy: 0.3269 - f1_m: 3.3465\n",
      "Epoch 4/50\n",
      "52/52 [==============================] - 0s 5ms/step - loss: 1.6814 - accuracy: 0.4227 - f1_m: 2.8522\n",
      "Epoch 5/50\n",
      "52/52 [==============================] - 0s 5ms/step - loss: 1.4824 - accuracy: 0.4839 - f1_m: 2.8586\n",
      "Epoch 6/50\n",
      "52/52 [==============================] - 0s 5ms/step - loss: 1.3603 - accuracy: 0.5233 - f1_m: 2.5936\n",
      "Epoch 7/50\n",
      "52/52 [==============================] - 0s 5ms/step - loss: 1.1899 - accuracy: 0.5979 - f1_m: 2.5765\n",
      "Epoch 8/50\n",
      "52/52 [==============================] - 0s 5ms/step - loss: 1.1306 - accuracy: 0.6137 - f1_m: 2.5822\n",
      "Epoch 9/50\n",
      "52/52 [==============================] - 0s 5ms/step - loss: 1.0561 - accuracy: 0.6264 - f1_m: 2.5522\n",
      "Epoch 10/50\n",
      "52/52 [==============================] - 0s 5ms/step - loss: 1.0360 - accuracy: 0.6549 - f1_m: 2.4968\n",
      "Epoch 11/50\n",
      "52/52 [==============================] - 0s 5ms/step - loss: 0.8760 - accuracy: 0.7198 - f1_m: 2.5113\n",
      "Epoch 12/50\n",
      "52/52 [==============================] - 0s 5ms/step - loss: 0.8786 - accuracy: 0.7059 - f1_m: 2.4689\n",
      "Epoch 13/50\n",
      "52/52 [==============================] - 0s 5ms/step - loss: 0.8954 - accuracy: 0.6913 - f1_m: 2.3982\n",
      "Epoch 14/50\n",
      "52/52 [==============================] - 0s 5ms/step - loss: 0.8189 - accuracy: 0.7326 - f1_m: 2.4079\n",
      "Epoch 15/50\n",
      "52/52 [==============================] - 0s 5ms/step - loss: 0.8269 - accuracy: 0.7089 - f1_m: 2.4061\n",
      "Epoch 16/50\n",
      "52/52 [==============================] - 0s 5ms/step - loss: 0.7543 - accuracy: 0.7483 - f1_m: 2.3707\n",
      "Epoch 17/50\n",
      "52/52 [==============================] - 0s 5ms/step - loss: 0.7052 - accuracy: 0.7690 - f1_m: 2.3507\n",
      "Epoch 18/50\n",
      "52/52 [==============================] - 0s 5ms/step - loss: 0.7104 - accuracy: 0.7683 - f1_m: 2.3294\n",
      "Epoch 19/50\n",
      "52/52 [==============================] - 0s 5ms/step - loss: 0.6788 - accuracy: 0.7665 - f1_m: 2.3073\n",
      "Epoch 20/50\n",
      "52/52 [==============================] - 0s 5ms/step - loss: 0.6894 - accuracy: 0.7605 - f1_m: 2.2618\n",
      "Epoch 21/50\n",
      "52/52 [==============================] - 0s 5ms/step - loss: 0.7465 - accuracy: 0.7526 - f1_m: 2.2872\n",
      "Epoch 22/50\n",
      "52/52 [==============================] - 0s 5ms/step - loss: 0.7066 - accuracy: 0.7635 - f1_m: 2.2784\n",
      "Epoch 23/50\n",
      "52/52 [==============================] - 0s 5ms/step - loss: 0.6446 - accuracy: 0.7896 - f1_m: 2.2674\n",
      "Epoch 24/50\n",
      "52/52 [==============================] - 0s 5ms/step - loss: 0.5786 - accuracy: 0.8078 - f1_m: 2.2639\n",
      "Epoch 25/50\n",
      "52/52 [==============================] - 0s 5ms/step - loss: 0.5544 - accuracy: 0.8266 - f1_m: 2.2741\n",
      "Epoch 26/50\n",
      "52/52 [==============================] - 0s 5ms/step - loss: 0.5422 - accuracy: 0.8253 - f1_m: 2.2264\n",
      "Epoch 27/50\n",
      "52/52 [==============================] - 0s 5ms/step - loss: 0.5515 - accuracy: 0.8175 - f1_m: 2.2347\n",
      "Epoch 28/50\n",
      "52/52 [==============================] - 0s 5ms/step - loss: 0.4829 - accuracy: 0.8484 - f1_m: 2.1974\n",
      "Epoch 29/50\n",
      "52/52 [==============================] - 0s 5ms/step - loss: 0.6661 - accuracy: 0.7744 - f1_m: 2.1647\n",
      "Epoch 30/50\n",
      "52/52 [==============================] - 0s 5ms/step - loss: 0.5499 - accuracy: 0.8078 - f1_m: 2.2305\n",
      "Epoch 31/50\n",
      "52/52 [==============================] - 0s 5ms/step - loss: 0.5488 - accuracy: 0.8102 - f1_m: 2.1707\n",
      "Epoch 32/50\n",
      "52/52 [==============================] - 0s 5ms/step - loss: 0.4958 - accuracy: 0.8314 - f1_m: 2.2109\n",
      "Epoch 33/50\n",
      "52/52 [==============================] - 0s 5ms/step - loss: 0.5129 - accuracy: 0.8217 - f1_m: 2.1734\n",
      "Epoch 34/50\n",
      "52/52 [==============================] - 0s 5ms/step - loss: 0.5388 - accuracy: 0.8193 - f1_m: 2.1549\n",
      "Epoch 35/50\n",
      "52/52 [==============================] - 0s 5ms/step - loss: 0.4785 - accuracy: 0.8399 - f1_m: 2.1314\n",
      "Epoch 36/50\n",
      "52/52 [==============================] - 0s 5ms/step - loss: 0.4002 - accuracy: 0.8696 - f1_m: 2.1406\n",
      "Epoch 37/50\n",
      "52/52 [==============================] - 0s 5ms/step - loss: 0.4649 - accuracy: 0.8314 - f1_m: 2.1467\n",
      "Epoch 38/50\n",
      "52/52 [==============================] - 0s 5ms/step - loss: 0.4389 - accuracy: 0.8532 - f1_m: 2.1435\n",
      "Epoch 39/50\n",
      "52/52 [==============================] - 0s 5ms/step - loss: 0.3917 - accuracy: 0.8666 - f1_m: 2.1524\n",
      "Epoch 40/50\n",
      "52/52 [==============================] - 0s 5ms/step - loss: 0.4414 - accuracy: 0.8520 - f1_m: 2.1024\n",
      "Epoch 41/50\n",
      "52/52 [==============================] - 0s 5ms/step - loss: 0.4528 - accuracy: 0.8478 - f1_m: 2.1441\n",
      "Epoch 42/50\n",
      "52/52 [==============================] - 0s 5ms/step - loss: 0.3720 - accuracy: 0.8781 - f1_m: 2.1331\n",
      "Epoch 43/50\n",
      "52/52 [==============================] - 0s 5ms/step - loss: 0.3793 - accuracy: 0.8684 - f1_m: 2.1151\n",
      "Epoch 44/50\n",
      "52/52 [==============================] - 0s 5ms/step - loss: 0.3443 - accuracy: 0.8769 - f1_m: 2.1117\n",
      "Epoch 45/50\n",
      "52/52 [==============================] - 0s 5ms/step - loss: 0.3612 - accuracy: 0.8763 - f1_m: 2.1109\n",
      "Epoch 46/50\n",
      "52/52 [==============================] - 0s 5ms/step - loss: 0.3844 - accuracy: 0.8684 - f1_m: 2.1310\n",
      "Epoch 47/50\n",
      "52/52 [==============================] - 0s 5ms/step - loss: 0.3651 - accuracy: 0.8848 - f1_m: 2.0900\n",
      "Epoch 48/50\n",
      "52/52 [==============================] - 0s 5ms/step - loss: 0.3243 - accuracy: 0.8878 - f1_m: 2.0770\n",
      "Epoch 49/50\n",
      "52/52 [==============================] - 0s 7ms/step - loss: 0.3156 - accuracy: 0.8927 - f1_m: 2.0907\n",
      "Epoch 50/50\n",
      "52/52 [==============================] - 0s 9ms/step - loss: 0.3203 - accuracy: 0.8939 - f1_m: 2.1034\n",
      "13/13 [==============================] - 0s 3ms/step - loss: 0.9044 - accuracy: 0.7748 - f1_m: 2.0673\n"
     ]
    },
    {
     "data": {
      "text/plain": [
       "[0.9044486284255981, 0.7748184204101562, 2.0673136711120605]"
      ]
     },
     "execution_count": 10,
     "metadata": {},
     "output_type": "execute_result"
    }
   ],
   "source": [
    "model1 = define_model1()\n",
    "model1.fit(x_train, y_train, epochs=50)\n",
    "model1.evaluate(x_test,y_test)\n"
   ]
  },
  {
   "cell_type": "code",
   "execution_count": 11,
   "id": "953c3011",
   "metadata": {},
   "outputs": [
    {
     "name": "stdout",
     "output_type": "stream",
     "text": [
      "Model: \"sequential\"\n",
      "_________________________________________________________________\n",
      " Layer (type)                Output Shape              Param #   \n",
      "=================================================================\n",
      " dense (Dense)               (None, 150)               614550    \n",
      "                                                                 \n",
      " dense_1 (Dense)             (None, 150)               22650     \n",
      "                                                                 \n",
      " dense_2 (Dense)             (None, 10)                1510      \n",
      "                                                                 \n",
      "=================================================================\n",
      "Total params: 638,710\n",
      "Trainable params: 638,710\n",
      "Non-trainable params: 0\n",
      "_________________________________________________________________\n"
     ]
    }
   ],
   "source": [
    "model1.summary()"
   ]
  },
  {
   "cell_type": "code",
   "execution_count": 12,
   "id": "2316e150",
   "metadata": {},
   "outputs": [
    {
     "name": "stdout",
     "output_type": "stream",
     "text": [
      "Epoch 1/50\n",
      "52/52 [==============================] - 1s 7ms/step - loss: 2.3879 - accuracy: 0.1298 - f1_m: 1.9081\n",
      "Epoch 2/50\n",
      "52/52 [==============================] - 0s 4ms/step - loss: 2.2460 - accuracy: 0.1680 - f1_m: 2.0521\n",
      "Epoch 3/50\n",
      "52/52 [==============================] - 0s 5ms/step - loss: 2.0611 - accuracy: 0.2638 - f1_m: 2.3689\n",
      "Epoch 4/50\n",
      "52/52 [==============================] - 0s 4ms/step - loss: 1.7254 - accuracy: 0.3796 - f1_m: 2.5324\n",
      "Epoch 5/50\n",
      "52/52 [==============================] - 0s 4ms/step - loss: 1.4643 - accuracy: 0.4773 - f1_m: 2.5237\n",
      "Epoch 6/50\n",
      "52/52 [==============================] - 0s 5ms/step - loss: 1.4284 - accuracy: 0.4730 - f1_m: 2.4618\n",
      "Epoch 7/50\n",
      "52/52 [==============================] - 0s 5ms/step - loss: 1.2287 - accuracy: 0.5597 - f1_m: 2.3813\n",
      "Epoch 8/50\n",
      "52/52 [==============================] - 0s 4ms/step - loss: 1.0918 - accuracy: 0.6125 - f1_m: 2.3365\n",
      "Epoch 9/50\n",
      "52/52 [==============================] - 0s 6ms/step - loss: 1.0067 - accuracy: 0.6434 - f1_m: 2.3121\n",
      "Epoch 10/50\n",
      "52/52 [==============================] - 0s 4ms/step - loss: 1.0128 - accuracy: 0.6446 - f1_m: 2.3070\n",
      "Epoch 11/50\n",
      "52/52 [==============================] - 0s 4ms/step - loss: 1.0257 - accuracy: 0.6307 - f1_m: 2.3882\n",
      "Epoch 12/50\n",
      "52/52 [==============================] - 0s 4ms/step - loss: 0.9531 - accuracy: 0.6671 - f1_m: 2.3801\n",
      "Epoch 13/50\n",
      "52/52 [==============================] - 0s 4ms/step - loss: 0.7843 - accuracy: 0.7277 - f1_m: 2.2886\n",
      "Epoch 14/50\n",
      "52/52 [==============================] - 0s 4ms/step - loss: 0.9141 - accuracy: 0.6841 - f1_m: 2.3593\n",
      "Epoch 15/50\n",
      "52/52 [==============================] - 0s 4ms/step - loss: 0.9172 - accuracy: 0.6768 - f1_m: 2.3980\n",
      "Epoch 16/50\n",
      "52/52 [==============================] - 0s 4ms/step - loss: 0.7610 - accuracy: 0.7404 - f1_m: 2.3393\n",
      "Epoch 17/50\n",
      "52/52 [==============================] - 0s 4ms/step - loss: 0.7232 - accuracy: 0.7441 - f1_m: 2.3589\n",
      "Epoch 18/50\n",
      "52/52 [==============================] - 0s 5ms/step - loss: 0.7999 - accuracy: 0.7132 - f1_m: 2.3330\n",
      "Epoch 19/50\n",
      "52/52 [==============================] - 0s 5ms/step - loss: 0.7362 - accuracy: 0.7538 - f1_m: 2.3305\n",
      "Epoch 20/50\n",
      "52/52 [==============================] - 0s 5ms/step - loss: 0.6775 - accuracy: 0.7617 - f1_m: 2.2915\n",
      "Epoch 21/50\n",
      "52/52 [==============================] - 0s 5ms/step - loss: 0.6141 - accuracy: 0.8017 - f1_m: 2.3090\n",
      "Epoch 22/50\n",
      "52/52 [==============================] - 0s 4ms/step - loss: 0.6466 - accuracy: 0.7671 - f1_m: 2.3047\n",
      "Epoch 23/50\n",
      "52/52 [==============================] - 0s 4ms/step - loss: 0.6161 - accuracy: 0.7914 - f1_m: 2.2944\n",
      "Epoch 24/50\n",
      "52/52 [==============================] - 0s 4ms/step - loss: 0.5605 - accuracy: 0.8175 - f1_m: 2.3080\n",
      "Epoch 25/50\n",
      "52/52 [==============================] - 0s 4ms/step - loss: 0.6333 - accuracy: 0.7829 - f1_m: 2.3275\n",
      "Epoch 26/50\n",
      "52/52 [==============================] - 0s 5ms/step - loss: 0.5052 - accuracy: 0.8272 - f1_m: 2.3045\n",
      "Epoch 27/50\n",
      "52/52 [==============================] - 0s 5ms/step - loss: 0.5637 - accuracy: 0.8078 - f1_m: 2.3028\n",
      "Epoch 28/50\n",
      "52/52 [==============================] - 0s 5ms/step - loss: 0.4453 - accuracy: 0.8508 - f1_m: 2.2565\n",
      "Epoch 29/50\n",
      "52/52 [==============================] - 0s 4ms/step - loss: 0.4960 - accuracy: 0.8211 - f1_m: 2.2547\n",
      "Epoch 30/50\n",
      "52/52 [==============================] - 0s 5ms/step - loss: 0.4685 - accuracy: 0.8357 - f1_m: 2.2674\n",
      "Epoch 31/50\n",
      "52/52 [==============================] - 0s 5ms/step - loss: 0.4581 - accuracy: 0.8423 - f1_m: 2.2591\n",
      "Epoch 32/50\n",
      "52/52 [==============================] - 0s 6ms/step - loss: 0.6099 - accuracy: 0.7926 - f1_m: 2.2643\n",
      "Epoch 33/50\n",
      "52/52 [==============================] - 0s 4ms/step - loss: 0.4809 - accuracy: 0.8381 - f1_m: 2.2813\n",
      "Epoch 34/50\n",
      "52/52 [==============================] - 0s 4ms/step - loss: 0.4202 - accuracy: 0.8508 - f1_m: 2.2354\n",
      "Epoch 35/50\n",
      "52/52 [==============================] - 0s 4ms/step - loss: 0.4261 - accuracy: 0.8526 - f1_m: 2.2468\n",
      "Epoch 36/50\n",
      "52/52 [==============================] - 0s 5ms/step - loss: 0.4334 - accuracy: 0.8472 - f1_m: 2.2273\n",
      "Epoch 37/50\n",
      "52/52 [==============================] - 0s 5ms/step - loss: 0.4602 - accuracy: 0.8320 - f1_m: 2.2786\n",
      "Epoch 38/50\n",
      "52/52 [==============================] - 0s 5ms/step - loss: 0.3483 - accuracy: 0.8836 - f1_m: 2.2375\n",
      "Epoch 39/50\n",
      "52/52 [==============================] - 0s 6ms/step - loss: 0.4492 - accuracy: 0.8405 - f1_m: 2.2432\n",
      "Epoch 40/50\n",
      "52/52 [==============================] - 0s 5ms/step - loss: 0.4532 - accuracy: 0.8326 - f1_m: 2.2613\n",
      "Epoch 41/50\n",
      "52/52 [==============================] - 0s 5ms/step - loss: 0.3473 - accuracy: 0.8757 - f1_m: 2.2601\n",
      "Epoch 42/50\n",
      "52/52 [==============================] - 0s 5ms/step - loss: 0.3967 - accuracy: 0.8629 - f1_m: 2.2253\n",
      "Epoch 43/50\n",
      "52/52 [==============================] - 0s 6ms/step - loss: 0.3347 - accuracy: 0.8817 - f1_m: 2.2191\n",
      "Epoch 44/50\n",
      "52/52 [==============================] - 0s 5ms/step - loss: 0.3544 - accuracy: 0.8690 - f1_m: 2.2145\n",
      "Epoch 45/50\n",
      "52/52 [==============================] - 0s 5ms/step - loss: 0.3356 - accuracy: 0.8860 - f1_m: 2.2181\n",
      "Epoch 46/50\n",
      "52/52 [==============================] - 0s 5ms/step - loss: 0.3123 - accuracy: 0.8884 - f1_m: 2.2088\n",
      "Epoch 47/50\n",
      "52/52 [==============================] - 0s 4ms/step - loss: 0.4110 - accuracy: 0.8569 - f1_m: 2.2184\n",
      "Epoch 48/50\n",
      "52/52 [==============================] - 0s 5ms/step - loss: 0.2756 - accuracy: 0.9078 - f1_m: 2.2201\n",
      "Epoch 49/50\n",
      "52/52 [==============================] - 0s 5ms/step - loss: 0.3396 - accuracy: 0.8896 - f1_m: 2.1627\n",
      "Epoch 50/50\n",
      "52/52 [==============================] - 0s 5ms/step - loss: 0.3414 - accuracy: 0.8799 - f1_m: 2.2276\n",
      "13/13 [==============================] - 0s 3ms/step - loss: 0.6792 - accuracy: 0.8232 - f1_m: 2.1733\n"
     ]
    },
    {
     "data": {
      "text/plain": [
       "[0.6792094707489014, 0.823244571685791, 2.173330307006836]"
      ]
     },
     "execution_count": 12,
     "metadata": {},
     "output_type": "execute_result"
    }
   ],
   "source": [
    "model2 = define_model2()\n",
    "model2.fit(x_train, y_train, epochs=50)\n",
    "model2.evaluate(x_test,y_test)"
   ]
  },
  {
   "cell_type": "code",
   "execution_count": 13,
   "id": "22a0abcc",
   "metadata": {},
   "outputs": [
    {
     "name": "stdout",
     "output_type": "stream",
     "text": [
      "Model: \"sequential_1\"\n",
      "_________________________________________________________________\n",
      " Layer (type)                Output Shape              Param #   \n",
      "=================================================================\n",
      " dense_3 (Dense)             (None, 120)               491640    \n",
      "                                                                 \n",
      " dense_4 (Dense)             (None, 160)               19360     \n",
      "                                                                 \n",
      " dense_5 (Dense)             (None, 80)                12880     \n",
      "                                                                 \n",
      " dense_6 (Dense)             (None, 10)                810       \n",
      "                                                                 \n",
      "=================================================================\n",
      "Total params: 524,690\n",
      "Trainable params: 524,690\n",
      "Non-trainable params: 0\n",
      "_________________________________________________________________\n"
     ]
    }
   ],
   "source": [
    "model2.summary()"
   ]
  },
  {
   "cell_type": "code",
   "execution_count": 14,
   "id": "0c1e9735-ee48-4440-890b-2cd959f2632a",
   "metadata": {},
   "outputs": [
    {
     "name": "stdout",
     "output_type": "stream",
     "text": [
      "13/13 [==============================] - 0s 3ms/step\n"
     ]
    },
    {
     "data": {
      "text/plain": [
       "Text(95.72222222222221, 0.5, 'Truth')"
      ]
     },
     "execution_count": 14,
     "metadata": {},
     "output_type": "execute_result"
    },
    {
     "data": {
      "image/png": "[encoded data removed]",
      "text/plain": [
       "<Figure size 1000x700 with 2 Axes>"
      ]
     },
     "metadata": {},
     "output_type": "display_data"
    }
   ],
   "source": [
    "y_predicted1 = model1.predict(x_test)\n",
    "y_predicted_labels1 = [np.argmax(i) for i in y_predicted1]\n",
    "cm1 = ts.math.confusion_matrix(labels=y_test,predictions=y_predicted_labels1)\n",
    "\n",
    "plt.figure(figsize = (10,7))\n",
    "sn.heatmap(cm1, annot=True, fmt='d')\n",
    "plt.xlabel('Predicted')\n",
    "plt.ylabel('Truth')"
   ]
  },
  {
   "cell_type": "code",
   "execution_count": 15,
   "id": "8a3a37b5-2040-43e6-b4e0-e11be5875e08",
   "metadata": {},
   "outputs": [
    {
     "name": "stdout",
     "output_type": "stream",
     "text": [
      "13/13 [==============================] - 0s 5ms/step\n"
     ]
    },
    {
     "data": {
      "text/plain": [
       "Text(95.72222222222221, 0.5, 'Truth')"
      ]
     },
     "execution_count": 15,
     "metadata": {},
     "output_type": "execute_result"
    },
    {
     "data": {
      "image/png": "[encoded data removed]",
      "text/plain": [
       "<Figure size 1000x700 with 2 Axes>"
      ]
     },
     "metadata": {},
     "output_type": "display_data"
    }
   ],
   "source": [
    "y_predicted2 = model2.predict(x_test)\n",
    "y_predicted_labels2 = [np.argmax(i) for i in y_predicted2]\n",
    "cm2 = ts.math.confusion_matrix(labels=y_test,predictions=y_predicted_labels2)\n",
    "\n",
    "plt.figure(figsize = (10,7))\n",
    "sn.heatmap(cm2, annot=True, fmt='d')\n",
    "plt.xlabel('Predicted')\n",
    "plt.ylabel('Truth')"
   ]
  },
  {
   "cell_type": "code",
   "execution_count": 16,
   "id": "fe697d14-508b-4d25-9f72-99193114ec45",
   "metadata": {},
   "outputs": [],
   "source": [
    "#lo = y_test.shape[0]\n",
    "#for i in range (lo):\n",
    "#    print(y_test[i] , \"========>\" , y_predicted_labels[i])"
   ]
  },
  {
   "cell_type": "code",
   "execution_count": 17,
   "id": "02d936cc",
   "metadata": {},
   "outputs": [
    {
     "name": "stdout",
     "output_type": "stream",
     "text": [
      "9\n",
      "9.0\n"
     ]
    },
    {
     "data": {
      "image/png": "[encoded data removed]",
      "text/plain": [
       "<Figure size 480x480 with 1 Axes>"
      ]
     },
     "metadata": {},
     "output_type": "display_data"
    }
   ],
   "source": [
    "roro = random_state=random.randint(0,len(x_test) - 1)\n",
    "img = x_test[roro].reshape(64,64,1)\n",
    "plt.matshow(img,cmap = 'gray')\n",
    "print(y_predicted_labels1[roro])\n",
    "print(y_test[roro])"
   ]
  },
  {
   "cell_type": "code",
   "execution_count": 18,
   "id": "3ee6b80f",
   "metadata": {},
   "outputs": [
    {
     "name": "stdout",
     "output_type": "stream",
     "text": [
      "8\n",
      "8.0\n"
     ]
    },
    {
     "data": {
      "image/png": "[encoded data removed]",
      "text/plain": [
       "<Figure size 480x480 with 1 Axes>"
      ]
     },
     "metadata": {},
     "output_type": "display_data"
    }
   ],
   "source": [
    "roro = random_state=random.randint(0,len(x_test) - 1)\n",
    "img = x_test[roro].reshape(64,64,1)\n",
    "plt.matshow(img,cmap = 'gray')\n",
    "print(y_predicted_labels2[roro])\n",
    "print(y_test[roro])"
   ]
  },
  {
   "cell_type": "markdown",
   "id": "df8dfe83",
   "metadata": {},
   "source": [
    "## Cross Over in Neural Network"
   ]
  },
  {
   "cell_type": "code",
   "execution_count": 19,
   "id": "a6f2faa3",
   "metadata": {},
   "outputs": [],
   "source": [
    "\n",
    "# evaluate a model using k-fold cross-validation\n",
    "def evaluate_model(dataX, dataY, n_folds=5 ,Model =define_model1()):\n",
    "    scores, histories,f11 = list(), list() , list()\n",
    "    # prepare cross validation\n",
    "    kfold = KFold(n_folds, shuffle=True, random_state=1)\n",
    "    # enumerate splits\n",
    "    for train_ix, test_ix in kfold.split(dataX):\n",
    "        # define model\n",
    "        # select rows for train and test\n",
    "        trainX, trainY, testX, testY = dataX[train_ix], dataY[train_ix], dataX[test_ix], dataY[test_ix]\n",
    "        trainX = trainX.reshape(len(trainX),64*64)\n",
    "        testX = testX.reshape(len(testX),64*64)\n",
    "        model = Model\n",
    "        model.fit(trainX, trainY, epochs=15)\n",
    "        # fit model\n",
    "        history = model\n",
    "        # evaluate model\n",
    "        _, acc,f1 = model.evaluate(testX,testY)\n",
    "        # stores scores\n",
    "        scores.append(acc)\n",
    "        f11.append(f1)\n",
    "        histories.append(history)\n",
    "    return scores,f11, histories\n"
   ]
  },
  {
   "cell_type": "code",
   "execution_count": 20,
   "id": "544c4092",
   "metadata": {},
   "outputs": [
    {
     "name": "stdout",
     "output_type": "stream",
     "text": [
      "Epoch 1/15\n",
      "35/35 [==============================] - 0s 6ms/step - loss: 0.2743 - accuracy: 0.8954 - f1_m: 2.1045\n",
      "Epoch 2/15\n",
      "35/35 [==============================] - 0s 7ms/step - loss: 0.3398 - accuracy: 0.8790 - f1_m: 2.0771\n",
      "Epoch 3/15\n",
      "35/35 [==============================] - 0s 6ms/step - loss: 0.3096 - accuracy: 0.8963 - f1_m: 2.0918\n",
      "Epoch 4/15\n",
      "35/35 [==============================] - 0s 5ms/step - loss: 0.3569 - accuracy: 0.8662 - f1_m: 2.0723\n",
      "Epoch 5/15\n",
      "35/35 [==============================] - 0s 5ms/step - loss: 0.3832 - accuracy: 0.8590 - f1_m: 2.1485\n",
      "Epoch 6/15\n",
      "35/35 [==============================] - 0s 5ms/step - loss: 0.2631 - accuracy: 0.9054 - f1_m: 2.0745\n",
      "Epoch 7/15\n",
      "35/35 [==============================] - 0s 5ms/step - loss: 0.1909 - accuracy: 0.9363 - f1_m: 2.0626\n",
      "Epoch 8/15\n",
      "35/35 [==============================] - 0s 5ms/step - loss: 0.1900 - accuracy: 0.9409 - f1_m: 2.0582\n",
      "Epoch 9/15\n",
      "35/35 [==============================] - 0s 5ms/step - loss: 0.1817 - accuracy: 0.9418 - f1_m: 2.0889\n",
      "Epoch 10/15\n",
      "35/35 [==============================] - 0s 5ms/step - loss: 0.3247 - accuracy: 0.8854 - f1_m: 1.9897\n",
      "Epoch 11/15\n",
      "35/35 [==============================] - 0s 5ms/step - loss: 0.1816 - accuracy: 0.9454 - f1_m: 2.0745\n",
      "Epoch 12/15\n",
      "35/35 [==============================] - 0s 5ms/step - loss: 0.1865 - accuracy: 0.9454 - f1_m: 2.0533\n",
      "Epoch 13/15\n",
      "35/35 [==============================] - 0s 5ms/step - loss: 0.1621 - accuracy: 0.9527 - f1_m: 1.9979\n",
      "Epoch 14/15\n",
      "35/35 [==============================] - 0s 5ms/step - loss: 0.1994 - accuracy: 0.9318 - f1_m: 2.0529\n",
      "Epoch 15/15\n",
      "35/35 [==============================] - 0s 5ms/step - loss: 0.2131 - accuracy: 0.9299 - f1_m: 2.0138\n",
      "18/18 [==============================] - 0s 3ms/step - loss: 0.8154 - accuracy: 0.7036 - f1_m: 1.9078\n",
      "Epoch 1/15\n",
      "35/35 [==============================] - 0s 5ms/step - loss: 0.3231 - accuracy: 0.8981 - f1_m: 2.0073\n",
      "Epoch 2/15\n",
      "35/35 [==============================] - 0s 5ms/step - loss: 0.2855 - accuracy: 0.9081 - f1_m: 2.0261\n",
      "Epoch 3/15\n",
      "35/35 [==============================] - 0s 5ms/step - loss: 0.5990 - accuracy: 0.7980 - f1_m: 2.0501\n",
      "Epoch 4/15\n",
      "35/35 [==============================] - 0s 5ms/step - loss: 0.3663 - accuracy: 0.8699 - f1_m: 2.0606\n",
      "Epoch 5/15\n",
      "35/35 [==============================] - 0s 5ms/step - loss: 0.4977 - accuracy: 0.8262 - f1_m: 1.9916\n",
      "Epoch 6/15\n",
      "35/35 [==============================] - 0s 5ms/step - loss: 0.4302 - accuracy: 0.8681 - f1_m: 2.0422\n",
      "Epoch 7/15\n",
      "35/35 [==============================] - 0s 5ms/step - loss: 0.2984 - accuracy: 0.9008 - f1_m: 2.0353\n",
      "Epoch 8/15\n",
      "35/35 [==============================] - 0s 4ms/step - loss: 0.2381 - accuracy: 0.9217 - f1_m: 2.0016\n",
      "Epoch 9/15\n",
      "35/35 [==============================] - 0s 5ms/step - loss: 0.1895 - accuracy: 0.9527 - f1_m: 2.0006\n",
      "Epoch 10/15\n",
      "35/35 [==============================] - 0s 6ms/step - loss: 0.1973 - accuracy: 0.9418 - f1_m: 1.9917\n",
      "Epoch 11/15\n",
      "35/35 [==============================] - 0s 5ms/step - loss: 0.1519 - accuracy: 0.9554 - f1_m: 1.9936\n",
      "Epoch 12/15\n",
      "35/35 [==============================] - 0s 5ms/step - loss: 0.1796 - accuracy: 0.9436 - f1_m: 1.9937\n",
      "Epoch 13/15\n",
      "35/35 [==============================] - 0s 5ms/step - loss: 0.1713 - accuracy: 0.9490 - f1_m: 2.0261\n",
      "Epoch 14/15\n",
      "35/35 [==============================] - 0s 5ms/step - loss: 0.2213 - accuracy: 0.9136 - f1_m: 1.9569\n",
      "Epoch 15/15\n",
      "35/35 [==============================] - 0s 5ms/step - loss: 0.2004 - accuracy: 0.9345 - f1_m: 1.9951\n",
      "18/18 [==============================] - 0s 4ms/step - loss: 0.2668 - accuracy: 0.8964 - f1_m: 2.0159\n",
      "Epoch 1/15\n",
      "35/35 [==============================] - 0s 5ms/step - loss: 0.2772 - accuracy: 0.9091 - f1_m: 1.9957\n",
      "Epoch 2/15\n",
      "35/35 [==============================] - 0s 5ms/step - loss: 0.3180 - accuracy: 0.8755 - f1_m: 2.0067\n",
      "Epoch 3/15\n",
      "35/35 [==============================] - 0s 5ms/step - loss: 0.2282 - accuracy: 0.9209 - f1_m: 2.0076\n",
      "Epoch 4/15\n",
      "35/35 [==============================] - 0s 5ms/step - loss: 0.1692 - accuracy: 0.9445 - f1_m: 2.0037\n",
      "Epoch 5/15\n",
      "35/35 [==============================] - 0s 6ms/step - loss: 0.1716 - accuracy: 0.9436 - f1_m: 1.9899\n",
      "Epoch 6/15\n",
      "35/35 [==============================] - 0s 5ms/step - loss: 0.2708 - accuracy: 0.8955 - f1_m: 1.9714\n",
      "Epoch 7/15\n",
      "35/35 [==============================] - 0s 5ms/step - loss: 0.2612 - accuracy: 0.9091 - f1_m: 1.9908\n",
      "Epoch 8/15\n",
      "35/35 [==============================] - 0s 5ms/step - loss: 0.1345 - accuracy: 0.9645 - f1_m: 1.9721\n",
      "Epoch 9/15\n",
      "35/35 [==============================] - 0s 5ms/step - loss: 0.1367 - accuracy: 0.9609 - f1_m: 1.9791\n",
      "Epoch 10/15\n",
      "35/35 [==============================] - 0s 5ms/step - loss: 0.2598 - accuracy: 0.9100 - f1_m: 1.9928\n",
      "Epoch 11/15\n",
      "35/35 [==============================] - 0s 5ms/step - loss: 0.1550 - accuracy: 0.9536 - f1_m: 1.9642\n",
      "Epoch 12/15\n",
      "35/35 [==============================] - 0s 5ms/step - loss: 0.1445 - accuracy: 0.9527 - f1_m: 1.9559\n",
      "Epoch 13/15\n",
      "35/35 [==============================] - 0s 5ms/step - loss: 0.1216 - accuracy: 0.9682 - f1_m: 1.9855\n",
      "Epoch 14/15\n",
      "35/35 [==============================] - 0s 5ms/step - loss: 0.1954 - accuracy: 0.9327 - f1_m: 1.9705\n",
      "Epoch 15/15\n",
      "35/35 [==============================] - 0s 5ms/step - loss: 0.2708 - accuracy: 0.9027 - f1_m: 1.9654\n",
      "18/18 [==============================] - 0s 3ms/step - loss: 0.3193 - accuracy: 0.8852 - f1_m: 1.9520\n"
     ]
    }
   ],
   "source": [
    "scoresModel1,f11 , histories1 = evaluate_model(x_train,y_train,3,model1)\n"
   ]
  },
  {
   "cell_type": "code",
   "execution_count": 21,
   "id": "e9d29360",
   "metadata": {},
   "outputs": [
    {
     "name": "stdout",
     "output_type": "stream",
     "text": [
      "[0.7036363482475281, 0.8963636159896851, 0.8852459192276001]\n",
      "[1.9078072309494019, 2.015913724899292, 1.95198655128479]\n",
      "[<keras.engine.sequential.Sequential object at 0x0000015EF2206C70>, <keras.engine.sequential.Sequential object at 0x0000015EF2206C70>, <keras.engine.sequential.Sequential object at 0x0000015EF2206C70>]\n"
     ]
    }
   ],
   "source": [
    "print(scoresModel1)\n",
    "print(f11)\n",
    "print(histories1)\n"
   ]
  },
  {
   "cell_type": "code",
   "execution_count": 22,
   "id": "959921a1",
   "metadata": {},
   "outputs": [
    {
     "name": "stdout",
     "output_type": "stream",
     "text": [
      "Epoch 1/15\n",
      "35/35 [==============================] - 0s 5ms/step - loss: 0.2341 - accuracy: 0.9245 - f1_m: 2.1857\n",
      "Epoch 2/15\n",
      "35/35 [==============================] - 0s 5ms/step - loss: 0.3717 - accuracy: 0.8708 - f1_m: 2.1702\n",
      "Epoch 3/15\n",
      "35/35 [==============================] - 0s 5ms/step - loss: 0.2099 - accuracy: 0.9217 - f1_m: 2.2104\n",
      "Epoch 4/15\n",
      "35/35 [==============================] - 0s 8ms/step - loss: 0.2099 - accuracy: 0.9290 - f1_m: 2.1788\n",
      "Epoch 5/15\n",
      "35/35 [==============================] - 0s 5ms/step - loss: 0.1819 - accuracy: 0.9363 - f1_m: 2.1636\n",
      "Epoch 6/15\n",
      "35/35 [==============================] - 0s 6ms/step - loss: 0.3982 - accuracy: 0.8599 - f1_m: 2.1474\n",
      "Epoch 7/15\n",
      "35/35 [==============================] - 0s 6ms/step - loss: 0.1700 - accuracy: 0.9481 - f1_m: 2.1681\n",
      "Epoch 8/15\n",
      "35/35 [==============================] - 0s 5ms/step - loss: 0.2037 - accuracy: 0.9327 - f1_m: 2.1491\n",
      "Epoch 9/15\n",
      "35/35 [==============================] - 0s 6ms/step - loss: 0.3014 - accuracy: 0.8963 - f1_m: 2.1443\n",
      "Epoch 10/15\n",
      "35/35 [==============================] - 0s 5ms/step - loss: 0.1797 - accuracy: 0.9390 - f1_m: 2.1342\n",
      "Epoch 11/15\n",
      "35/35 [==============================] - 0s 5ms/step - loss: 0.1550 - accuracy: 0.9536 - f1_m: 2.1419\n",
      "Epoch 12/15\n",
      "35/35 [==============================] - 0s 5ms/step - loss: 0.1836 - accuracy: 0.9299 - f1_m: 2.1173\n",
      "Epoch 13/15\n",
      "35/35 [==============================] - 0s 5ms/step - loss: 0.1964 - accuracy: 0.9290 - f1_m: 2.1230\n",
      "Epoch 14/15\n",
      "35/35 [==============================] - 0s 5ms/step - loss: 0.2164 - accuracy: 0.9236 - f1_m: 2.0981\n",
      "Epoch 15/15\n",
      "35/35 [==============================] - 0s 5ms/step - loss: 0.1705 - accuracy: 0.9399 - f1_m: 2.0924\n",
      "18/18 [==============================] - 0s 3ms/step - loss: 0.2788 - accuracy: 0.9164 - f1_m: 2.0536\n",
      "Epoch 1/15\n",
      "35/35 [==============================] - 0s 5ms/step - loss: 0.2693 - accuracy: 0.9126 - f1_m: 2.0587\n",
      "Epoch 2/15\n",
      "35/35 [==============================] - 0s 4ms/step - loss: 0.2802 - accuracy: 0.9090 - f1_m: 2.0908\n",
      "Epoch 3/15\n",
      "35/35 [==============================] - 0s 5ms/step - loss: 0.2560 - accuracy: 0.9145 - f1_m: 2.0891\n",
      "Epoch 4/15\n",
      "35/35 [==============================] - 0s 5ms/step - loss: 0.2957 - accuracy: 0.8890 - f1_m: 2.0781\n",
      "Epoch 5/15\n",
      "35/35 [==============================] - 0s 5ms/step - loss: 0.4177 - accuracy: 0.8617 - f1_m: 2.1727\n",
      "Epoch 6/15\n",
      "35/35 [==============================] - 0s 6ms/step - loss: 0.3093 - accuracy: 0.8917 - f1_m: 2.1485\n",
      "Epoch 7/15\n",
      "35/35 [==============================] - 0s 5ms/step - loss: 0.3423 - accuracy: 0.8708 - f1_m: 2.1611\n",
      "Epoch 8/15\n",
      "35/35 [==============================] - 0s 6ms/step - loss: 0.2935 - accuracy: 0.8954 - f1_m: 2.1712\n",
      "Epoch 9/15\n",
      "35/35 [==============================] - 0s 6ms/step - loss: 0.2152 - accuracy: 0.9208 - f1_m: 2.1373\n",
      "Epoch 10/15\n",
      "35/35 [==============================] - 0s 5ms/step - loss: 0.2430 - accuracy: 0.9099 - f1_m: 2.0995\n",
      "Epoch 11/15\n",
      "35/35 [==============================] - 0s 8ms/step - loss: 0.2282 - accuracy: 0.9190 - f1_m: 2.1192\n",
      "Epoch 12/15\n",
      "35/35 [==============================] - 0s 9ms/step - loss: 0.1702 - accuracy: 0.9381 - f1_m: 2.0598\n",
      "Epoch 13/15\n",
      "35/35 [==============================] - 0s 7ms/step - loss: 0.2243 - accuracy: 0.9154 - f1_m: 2.0781\n",
      "Epoch 14/15\n",
      "35/35 [==============================] - 0s 10ms/step - loss: 0.2751 - accuracy: 0.8908 - f1_m: 2.0894\n",
      "Epoch 15/15\n",
      "35/35 [==============================] - 0s 6ms/step - loss: 0.2410 - accuracy: 0.9090 - f1_m: 2.1055\n",
      "18/18 [==============================] - 0s 11ms/step - loss: 0.2207 - accuracy: 0.9218 - f1_m: 2.1063\n",
      "Epoch 1/15\n",
      "35/35 [==============================] - 0s 7ms/step - loss: 0.2158 - accuracy: 0.9155 - f1_m: 2.0713\n",
      "Epoch 2/15\n",
      "35/35 [==============================] - 0s 9ms/step - loss: 0.3178 - accuracy: 0.8891 - f1_m: 2.0837\n",
      "Epoch 3/15\n",
      "35/35 [==============================] - 0s 6ms/step - loss: 0.2568 - accuracy: 0.9055 - f1_m: 2.1333\n",
      "Epoch 4/15\n",
      "35/35 [==============================] - 0s 13ms/step - loss: 0.1404 - accuracy: 0.9564 - f1_m: 2.1066\n",
      "Epoch 5/15\n",
      "35/35 [==============================] - 0s 8ms/step - loss: 0.1174 - accuracy: 0.9700 - f1_m: 2.1021\n",
      "Epoch 6/15\n",
      "35/35 [==============================] - 0s 9ms/step - loss: 0.1655 - accuracy: 0.9427 - f1_m: 2.0772\n",
      "Epoch 7/15\n",
      "35/35 [==============================] - 0s 7ms/step - loss: 0.2071 - accuracy: 0.9218 - f1_m: 2.0943\n",
      "Epoch 8/15\n",
      "35/35 [==============================] - 0s 7ms/step - loss: 0.1731 - accuracy: 0.9400 - f1_m: 2.0749\n",
      "Epoch 9/15\n",
      "35/35 [==============================] - 0s 6ms/step - loss: 0.2092 - accuracy: 0.9336 - f1_m: 2.0640\n",
      "Epoch 10/15\n",
      "35/35 [==============================] - 0s 5ms/step - loss: 0.1770 - accuracy: 0.9318 - f1_m: 2.0790\n",
      "Epoch 11/15\n",
      "35/35 [==============================] - 0s 6ms/step - loss: 0.2309 - accuracy: 0.9255 - f1_m: 2.0546\n",
      "Epoch 12/15\n",
      "35/35 [==============================] - 0s 6ms/step - loss: 0.1048 - accuracy: 0.9664 - f1_m: 2.0377\n",
      "Epoch 13/15\n",
      "35/35 [==============================] - 0s 5ms/step - loss: 0.1999 - accuracy: 0.9264 - f1_m: 1.9987\n",
      "Epoch 14/15\n",
      "35/35 [==============================] - 0s 5ms/step - loss: 0.1488 - accuracy: 0.9464 - f1_m: 2.0272\n",
      "Epoch 15/15\n",
      "35/35 [==============================] - 0s 5ms/step - loss: 0.0980 - accuracy: 0.9700 - f1_m: 2.0368\n",
      "18/18 [==============================] - 0s 4ms/step - loss: 0.1521 - accuracy: 0.9526 - f1_m: 2.0440\n"
     ]
    }
   ],
   "source": [
    "scoresModel2 ,f22 , histories2 = evaluate_model(x_train,y_train,3,model2)\n"
   ]
  },
  {
   "cell_type": "code",
   "execution_count": 23,
   "id": "dc780362",
   "metadata": {},
   "outputs": [
    {
     "name": "stdout",
     "output_type": "stream",
     "text": [
      "[0.9163636565208435, 0.921818196773529, 0.9526411890983582]\n",
      "[2.053602933883667, 2.1063032150268555, 2.0439860820770264]\n",
      "[<keras.engine.sequential.Sequential object at 0x0000015EF2206820>, <keras.engine.sequential.Sequential object at 0x0000015EF2206820>, <keras.engine.sequential.Sequential object at 0x0000015EF2206820>]\n"
     ]
    }
   ],
   "source": [
    "print(scoresModel2)\n",
    "print(f22)\n",
    "print(histories2)"
   ]
  },
  {
   "cell_type": "markdown",
   "id": "c3405c04",
   "metadata": {},
   "source": [
    "## With CNN"
   ]
  },
  {
   "cell_type": "code",
   "execution_count": 24,
   "id": "49b164a1",
   "metadata": {},
   "outputs": [
    {
     "name": "stdout",
     "output_type": "stream",
     "text": [
      "(1649, 4096)\n"
     ]
    }
   ],
   "source": [
    "print(x_train.shape)"
   ]
  },
  {
   "cell_type": "code",
   "execution_count": 25,
   "id": "df15a90e",
   "metadata": {},
   "outputs": [],
   "source": [
    "cnn = models.Sequential([\n",
    "    \n",
    "    layers.Conv2D(filters=32, kernel_size=(4, 4), activation='relu', input_shape=(64, 64 ,1)),\n",
    "    layers.MaxPooling2D((2, 2)),\n",
    "    \n",
    "    layers.Conv2D(filters=64, kernel_size=(3, 3), activation='relu'),\n",
    "    layers.MaxPooling2D((2, 2)),\n",
    "    \n",
    "    layers.Flatten(),\n",
    "    layers.Dense(64, activation='relu'),\n",
    "    layers.Dense(10, activation='sigmoid')\n",
    "])"
   ]
  },
  {
   "cell_type": "code",
   "execution_count": 26,
   "id": "fd516ed3",
   "metadata": {},
   "outputs": [],
   "source": [
    "cnn.compile(optimizer='adam',\n",
    "              loss='sparse_categorical_crossentropy',\n",
    "              metrics=['accuracy',f1_m])"
   ]
  },
  {
   "cell_type": "code",
   "execution_count": 27,
   "id": "f6d2ba15",
   "metadata": {},
   "outputs": [
    {
     "name": "stdout",
     "output_type": "stream",
     "text": [
      "Epoch 1/10\n",
      "52/52 [==============================] - 4s 70ms/step - loss: 1.8081 - accuracy: 0.3808 - f1_m: 4.0890\n",
      "Epoch 2/10\n",
      "52/52 [==============================] - 3s 63ms/step - loss: 0.7816 - accuracy: 0.7508 - f1_m: 2.6637\n",
      "Epoch 3/10\n",
      "52/52 [==============================] - 4s 72ms/step - loss: 0.5515 - accuracy: 0.8332 - f1_m: 2.3546\n",
      "Epoch 4/10\n",
      "52/52 [==============================] - 4s 74ms/step - loss: 0.4225 - accuracy: 0.8690 - f1_m: 2.1844\n",
      "Epoch 5/10\n",
      "52/52 [==============================] - 4s 68ms/step - loss: 0.3682 - accuracy: 0.8751 - f1_m: 2.1254\n",
      "Epoch 6/10\n",
      "52/52 [==============================] - 2s 40ms/step - loss: 0.2737 - accuracy: 0.9127 - f1_m: 2.0635\n",
      "Epoch 7/10\n",
      "52/52 [==============================] - 2s 40ms/step - loss: 0.1828 - accuracy: 0.9381 - f1_m: 1.9489\n",
      "Epoch 8/10\n",
      "52/52 [==============================] - 2s 41ms/step - loss: 0.1357 - accuracy: 0.9594 - f1_m: 1.9147\n",
      "Epoch 9/10\n",
      "52/52 [==============================] - 3s 65ms/step - loss: 0.0958 - accuracy: 0.9745 - f1_m: 1.8540\n",
      "Epoch 10/10\n",
      "52/52 [==============================] - 3s 57ms/step - loss: 0.0873 - accuracy: 0.9776 - f1_m: 1.8438\n"
     ]
    },
    {
     "data": {
      "text/plain": [
       "<keras.callbacks.History at 0x15e83e94b50>"
      ]
     },
     "execution_count": 27,
     "metadata": {},
     "output_type": "execute_result"
    }
   ],
   "source": [
    "x_train = x_train.reshape(len(x_train),64,64,1)\n",
    "x_test = x_test.reshape(len(x_test),64,64,1)\n",
    "cnn.fit(x_train, y_train, epochs=10)"
   ]
  },
  {
   "cell_type": "code",
   "execution_count": 28,
   "id": "e9e4880c",
   "metadata": {},
   "outputs": [
    {
     "name": "stdout",
     "output_type": "stream",
     "text": [
      "13/13 [==============================] - 1s 18ms/step - loss: 0.5498 - accuracy: 0.8499 - f1_m: 1.7758\n"
     ]
    },
    {
     "data": {
      "text/plain": [
       "[0.5498026609420776, 0.8498789072036743, 1.7757587432861328]"
      ]
     },
     "execution_count": 28,
     "metadata": {},
     "output_type": "execute_result"
    }
   ],
   "source": [
    "cnn.evaluate(x_test,y_test)"
   ]
  },
  {
   "cell_type": "code",
   "execution_count": 29,
   "id": "e309c06b",
   "metadata": {},
   "outputs": [
    {
     "name": "stdout",
     "output_type": "stream",
     "text": [
      "Model: \"sequential_3\"\n",
      "_________________________________________________________________\n",
      " Layer (type)                Output Shape              Param #   \n",
      "=================================================================\n",
      " conv2d (Conv2D)             (None, 61, 61, 32)        544       \n",
      "                                                                 \n",
      " max_pooling2d (MaxPooling2D  (None, 30, 30, 32)       0         \n",
      " )                                                               \n",
      "                                                                 \n",
      " conv2d_1 (Conv2D)           (None, 28, 28, 64)        18496     \n",
      "                                                                 \n",
      " max_pooling2d_1 (MaxPooling  (None, 14, 14, 64)       0         \n",
      " 2D)                                                             \n",
      "                                                                 \n",
      " flatten (Flatten)           (None, 12544)             0         \n",
      "                                                                 \n",
      " dense_10 (Dense)            (None, 64)                802880    \n",
      "                                                                 \n",
      " dense_11 (Dense)            (None, 10)                650       \n",
      "                                                                 \n",
      "=================================================================\n",
      "Total params: 822,570\n",
      "Trainable params: 822,570\n",
      "Non-trainable params: 0\n",
      "_________________________________________________________________\n"
     ]
    }
   ],
   "source": [
    "cnn.summary()"
   ]
  },
  {
   "cell_type": "code",
   "execution_count": 30,
   "id": "b4ca557e",
   "metadata": {},
   "outputs": [
    {
     "name": "stdout",
     "output_type": "stream",
     "text": [
      "13/13 [==============================] - 0s 21ms/step\n"
     ]
    }
   ],
   "source": [
    "y_pred = cnn.predict(x_test)"
   ]
  },
  {
   "cell_type": "code",
   "execution_count": 31,
   "id": "77998f5b",
   "metadata": {},
   "outputs": [
    {
     "name": "stdout",
     "output_type": "stream",
     "text": [
      "5\n",
      "5.0\n"
     ]
    },
    {
     "data": {
      "image/png": "[encoded data removed]",
      "text/plain": [
       "<Figure size 480x480 with 1 Axes>"
      ]
     },
     "metadata": {},
     "output_type": "display_data"
    }
   ],
   "source": [
    "y_classes = [np.argmax(element) for element in y_pred]\n",
    "roro = random_state=random.randint(0,len(x_test) - 1)\n",
    "img = x_test[roro].reshape(64,64,1)\n",
    "plt.matshow(img,cmap = 'gray')\n",
    "print(y_classes[roro])\n",
    "print(y_test[roro])"
   ]
  },
  {
   "cell_type": "markdown",
   "id": "7e28a261",
   "metadata": {},
   "source": [
    "## CNN with RGB"
   ]
  },
  {
   "cell_type": "code",
   "execution_count": 32,
   "id": "d1e72cb9",
   "metadata": {},
   "outputs": [],
   "source": [
    "\n",
    "def get_imgCnn(data_path):\n",
    "    # Getting image array from path:\n",
    "    img = imread(data_path)\n",
    "    img = resize(img, (img_size, img_size,3))\n",
    "    return img"
   ]
  },
  {
   "cell_type": "code",
   "execution_count": 33,
   "id": "21f284c9",
   "metadata": {},
   "outputs": [],
   "source": [
    "def get_datasetCnn(dataset_path='Dataset'):\n",
    "    # Getting all data from data path:\n",
    "    labels = listdir(dataset_path)  # Geting labels\n",
    "    X = []\n",
    "    Y = []\n",
    "    Z = []\n",
    "    for i, label in enumerate(labels):\n",
    "        datas_path = dataset_path + '/' + label\n",
    "        for data in listdir(datas_path):\n",
    "            img = get_imgCnn(datas_path + '/' + data)\n",
    "            #plt.matshow(img)\n",
    "            X.append(img)\n",
    "            Z.append(img)\n",
    "            Y.append(i)\n",
    "        # Create dateset:\n",
    "    X = np.array(X).astype('float32')\n",
    "    Y = np.array(Y).astype('float32')\n",
    "    X *=255.0\n",
    "    # calculate average for all images\n",
    "    m=X.mean()\n",
    "    return X,Y,Z,m"
   ]
  },
  {
   "cell_type": "code",
   "execution_count": 34,
   "id": "28c59c65",
   "metadata": {},
   "outputs": [],
   "source": [
    "Xcnn ,Ycnn , img , m =  get_datasetCnn(dataset_path='D:\\Sign-Language-Digits-Dataset-master\\Dataset')\n",
    "\n",
    "x_train2, x_test2, y_train2, y_test2  = train_test_split(Xcnn, Ycnn, test_size=test_size, random_state=32)\n"
   ]
  },
  {
   "cell_type": "code",
   "execution_count": 35,
   "id": "bfe8746f",
   "metadata": {},
   "outputs": [
    {
     "name": "stdout",
     "output_type": "stream",
     "text": [
      "(64, 64, 3)\n"
     ]
    }
   ],
   "source": [
    "print(x_train2[0].shape)"
   ]
  },
  {
   "cell_type": "code",
   "execution_count": 36,
   "id": "943e969d",
   "metadata": {},
   "outputs": [],
   "source": [
    "#Subtract this averages from each image ,Divide each image by 255\n",
    "x_train2 = x_train2 -m\n",
    "x_train2 /=255.0\n",
    "x_test2 = x_test2 -m\n",
    "x_test2 /=255.0"
   ]
  },
  {
   "cell_type": "code",
   "execution_count": 37,
   "id": "4f6bce97",
   "metadata": {},
   "outputs": [],
   "source": [
    "cnn = models.Sequential([\n",
    "    \n",
    "    layers.Conv2D(filters=32, kernel_size=(4, 4), activation='relu', input_shape=(64, 64 ,3)),\n",
    "    layers.MaxPooling2D((2, 2)),\n",
    "    \n",
    "    layers.Conv2D(filters=64, kernel_size=(3, 3), activation='relu'),\n",
    "    layers.MaxPooling2D((2, 2)),\n",
    "    \n",
    "    layers.Flatten(),\n",
    "    layers.Dense(64, activation='relu'),\n",
    "    layers.Dense(10, activation='sigmoid')\n",
    "])"
   ]
  },
  {
   "cell_type": "code",
   "execution_count": 38,
   "id": "bdbc1ab5",
   "metadata": {},
   "outputs": [],
   "source": [
    "cnn.compile(optimizer='adam',\n",
    "              loss='sparse_categorical_crossentropy',\n",
    "              metrics=['accuracy',f1_m])"
   ]
  },
  {
   "cell_type": "code",
   "execution_count": 39,
   "id": "1e10d737",
   "metadata": {},
   "outputs": [
    {
     "name": "stdout",
     "output_type": "stream",
     "text": [
      "Epoch 1/10\n",
      "52/52 [==============================] - 5s 78ms/step - loss: 1.4542 - accuracy: 0.5173 - f1_m: 3.0353\n",
      "Epoch 2/10\n",
      "52/52 [==============================] - 3s 55ms/step - loss: 0.5921 - accuracy: 0.8102 - f1_m: 2.6026\n",
      "Epoch 3/10\n",
      "52/52 [==============================] - 2s 43ms/step - loss: 0.3115 - accuracy: 0.9054 - f1_m: 2.4013\n",
      "Epoch 4/10\n",
      "52/52 [==============================] - 2s 45ms/step - loss: 0.1802 - accuracy: 0.9454 - f1_m: 2.2698\n",
      "Epoch 5/10\n",
      "52/52 [==============================] - 3s 56ms/step - loss: 0.1008 - accuracy: 0.9636 - f1_m: 2.0877\n",
      "Epoch 6/10\n",
      "52/52 [==============================] - 3s 54ms/step - loss: 0.0553 - accuracy: 0.9873 - f1_m: 2.0277\n",
      "Epoch 7/10\n",
      "52/52 [==============================] - 4s 76ms/step - loss: 0.0356 - accuracy: 0.9903 - f1_m: 1.9669\n",
      "Epoch 8/10\n",
      "52/52 [==============================] - 3s 49ms/step - loss: 0.0423 - accuracy: 0.9879 - f1_m: 1.9262\n",
      "Epoch 9/10\n",
      "52/52 [==============================] - 2s 42ms/step - loss: 0.0175 - accuracy: 0.9964 - f1_m: 1.8782\n",
      "Epoch 10/10\n",
      "52/52 [==============================] - 2s 47ms/step - loss: 0.0336 - accuracy: 0.9897 - f1_m: 1.8464\n"
     ]
    },
    {
     "data": {
      "text/plain": [
       "<keras.callbacks.History at 0x15e89ae71c0>"
      ]
     },
     "execution_count": 39,
     "metadata": {},
     "output_type": "execute_result"
    }
   ],
   "source": [
    "cnn.fit(x_train2, y_train2, epochs=10)"
   ]
  },
  {
   "cell_type": "code",
   "execution_count": 40,
   "id": "450258ac",
   "metadata": {},
   "outputs": [
    {
     "name": "stdout",
     "output_type": "stream",
     "text": [
      "13/13 [==============================] - 1s 15ms/step - loss: 0.4834 - accuracy: 0.9056 - f1_m: 1.8798\n"
     ]
    },
    {
     "data": {
      "text/plain": [
       "[0.48335933685302734, 0.9055690169334412, 1.879773497581482]"
      ]
     },
     "execution_count": 40,
     "metadata": {},
     "output_type": "execute_result"
    }
   ],
   "source": [
    "cnn.evaluate(x_test2,y_test2)"
   ]
  },
  {
   "cell_type": "code",
   "execution_count": 41,
   "id": "bdae2edf",
   "metadata": {},
   "outputs": [
    {
     "name": "stdout",
     "output_type": "stream",
     "text": [
      "13/13 [==============================] - 0s 25ms/step\n"
     ]
    }
   ],
   "source": [
    "y_pred = cnn.predict(x_test2)"
   ]
  },
  {
   "cell_type": "code",
   "execution_count": 42,
   "id": "1a0420d2",
   "metadata": {},
   "outputs": [],
   "source": [
    "def define_model4():\n",
    "    cn = models.Sequential([\n",
    "    \n",
    "    layers.Conv2D(filters=32, kernel_size=(4, 4), activation='relu', input_shape=(64, 64 ,3)),\n",
    "    layers.MaxPooling2D((2, 2)),\n",
    "    \n",
    "    layers.Conv2D(filters=64, kernel_size=(3, 3), activation='relu'),\n",
    "    layers.MaxPooling2D((2, 2)),\n",
    "    \n",
    "    layers.Flatten(),\n",
    "    layers.Dense(64, activation='relu'),\n",
    "    layers.Dense(10, activation='sigmoid')\n",
    "])\n",
    "\n",
    "    cn.compile(optimizer='adam',\n",
    "              loss='sparse_categorical_crossentropy',\n",
    "              metrics=['accuracy',f1_m])\n",
    "\n",
    "   \n",
    "    return cn\n",
    "\n",
    "# evaluate a model using k-fold cross-validation\n",
    "def evaluate_model_CNN(dataX, dataY, n_folds=5 ,Model = define_model4()):\n",
    "    scores, histories,f11 = list(), list(),list()\n",
    "    # prepare cross validation\n",
    "    kfold = KFold(n_folds, shuffle=True, random_state=1)\n",
    "    # enumerate splits\n",
    "    for train_ix, test_ix in kfold.split(dataX):\n",
    "        # define model\n",
    "        # select rows for train and test\n",
    "        trainX, trainY, testX, testY = dataX[train_ix], dataY[train_ix], dataX[test_ix], dataY[test_ix]\n",
    "        model = Model\n",
    "        model.fit(trainX, trainY, epochs=10)\n",
    "        # fit model\n",
    "        history = model\n",
    "        # evaluate model\n",
    "        _, acc,f1 = model.evaluate(testX,testY)\n",
    "        # stores scores\n",
    "        scores.append(acc)\n",
    "        f11.append(f1)\n",
    "        histories.append(history)\n",
    "    return scores,f11, histories\n"
   ]
  },
  {
   "cell_type": "code",
   "execution_count": 44,
   "id": "4c281764",
   "metadata": {},
   "outputs": [
    {
     "name": "stdout",
     "output_type": "stream",
     "text": [
      "Epoch 1/10\n",
      "35/35 [==============================] - 3s 69ms/step - loss: 1.4687 - accuracy: 0.4732 - f1_m: 2.8565\n",
      "Epoch 2/10\n",
      "35/35 [==============================] - 2s 66ms/step - loss: 0.6004 - accuracy: 0.8135 - f1_m: 2.3716\n",
      "Epoch 3/10\n",
      "35/35 [==============================] - 1s 40ms/step - loss: 0.3769 - accuracy: 0.8781 - f1_m: 2.2078\n",
      "Epoch 4/10\n",
      "35/35 [==============================] - 2s 55ms/step - loss: 0.1926 - accuracy: 0.9390 - f1_m: 2.0607\n",
      "Epoch 5/10\n",
      "35/35 [==============================] - 3s 76ms/step - loss: 0.1252 - accuracy: 0.9609 - f1_m: 2.0204\n",
      "Epoch 6/10\n",
      "35/35 [==============================] - 1s 41ms/step - loss: 0.0549 - accuracy: 0.9873 - f1_m: 1.8738\n",
      "Epoch 7/10\n",
      "35/35 [==============================] - 2s 45ms/step - loss: 0.0302 - accuracy: 0.9900 - f1_m: 1.8243\n",
      "Epoch 8/10\n",
      "35/35 [==============================] - 1s 42ms/step - loss: 0.0200 - accuracy: 0.9927 - f1_m: 1.8038\n",
      "Epoch 9/10\n",
      "35/35 [==============================] - 2s 43ms/step - loss: 0.0082 - accuracy: 0.9964 - f1_m: 1.7631\n",
      "Epoch 10/10\n",
      "35/35 [==============================] - 1s 41ms/step - loss: 0.0042 - accuracy: 0.9964 - f1_m: 1.7474\n",
      "18/18 [==============================] - 1s 26ms/step - loss: 0.6457 - accuracy: 0.8909 - f1_m: 1.6624\n",
      "Epoch 1/10\n",
      "35/35 [==============================] - 2s 52ms/step - loss: 0.3075 - accuracy: 0.9263 - f1_m: 1.9491\n",
      "Epoch 2/10\n",
      "35/35 [==============================] - 3s 78ms/step - loss: 0.1140 - accuracy: 0.9745 - f1_m: 1.9339\n",
      "Epoch 3/10\n",
      "35/35 [==============================] - 3s 79ms/step - loss: 0.0432 - accuracy: 0.9918 - f1_m: 1.8395\n",
      "Epoch 4/10\n",
      "35/35 [==============================] - 2s 64ms/step - loss: 0.0136 - accuracy: 0.9982 - f1_m: 1.7869\n",
      "Epoch 5/10\n",
      "35/35 [==============================] - 3s 73ms/step - loss: 0.0047 - accuracy: 0.9927 - f1_m: 1.7317\n",
      "Epoch 6/10\n",
      "35/35 [==============================] - 2s 61ms/step - loss: 0.0033 - accuracy: 0.9918 - f1_m: 1.7113\n",
      "Epoch 7/10\n",
      "35/35 [==============================] - 2s 45ms/step - loss: 0.0016 - accuracy: 0.9882 - f1_m: 1.6877\n",
      "Epoch 8/10\n",
      "35/35 [==============================] - 2s 63ms/step - loss: 0.0012 - accuracy: 0.9854 - f1_m: 1.6804\n",
      "Epoch 9/10\n",
      "35/35 [==============================] - 2s 55ms/step - loss: 9.7051e-04 - accuracy: 0.9854 - f1_m: 1.6718\n",
      "Epoch 10/10\n",
      "35/35 [==============================] - 3s 78ms/step - loss: 7.9678e-04 - accuracy: 0.9827 - f1_m: 1.6683\n",
      "18/18 [==============================] - 1s 37ms/step - loss: 0.0339 - accuracy: 0.9691 - f1_m: 1.6648\n",
      "Epoch 1/10\n",
      "35/35 [==============================] - 2s 54ms/step - loss: 0.0572 - accuracy: 0.9673 - f1_m: 1.6850\n",
      "Epoch 2/10\n",
      "35/35 [==============================] - 2s 46ms/step - loss: 0.0473 - accuracy: 0.9755 - f1_m: 1.7480\n",
      "Epoch 3/10\n",
      "35/35 [==============================] - 1s 41ms/step - loss: 0.0378 - accuracy: 0.9709 - f1_m: 1.7499\n",
      "Epoch 4/10\n",
      "35/35 [==============================] - 2s 44ms/step - loss: 0.0152 - accuracy: 0.9791 - f1_m: 1.7141\n",
      "Epoch 5/10\n",
      "35/35 [==============================] - 2s 44ms/step - loss: 0.0063 - accuracy: 0.9755 - f1_m: 1.6907\n",
      "Epoch 6/10\n",
      "35/35 [==============================] - 2s 45ms/step - loss: 0.0013 - accuracy: 0.9718 - f1_m: 1.6740\n",
      "Epoch 7/10\n",
      "35/35 [==============================] - 2s 44ms/step - loss: 5.1375e-04 - accuracy: 0.9664 - f1_m: 1.6616\n",
      "Epoch 8/10\n",
      "35/35 [==============================] - 2s 49ms/step - loss: 4.0040e-04 - accuracy: 0.9655 - f1_m: 1.6568\n",
      "Epoch 9/10\n",
      "35/35 [==============================] - 3s 76ms/step - loss: 3.3855e-04 - accuracy: 0.9636 - f1_m: 1.6581\n",
      "Epoch 10/10\n",
      "35/35 [==============================] - 2s 44ms/step - loss: 2.9094e-04 - accuracy: 0.9645 - f1_m: 1.6474\n",
      "18/18 [==============================] - 0s 13ms/step - loss: 0.0294 - accuracy: 0.9581 - f1_m: 1.6971\n"
     ]
    }
   ],
   "source": [
    "scoresModel3 ,f11, histories3 = evaluate_model_CNN(x_train2 ,y_train2,3 )\n"
   ]
  },
  {
   "cell_type": "code",
   "execution_count": 45,
   "id": "5b3950c8",
   "metadata": {},
   "outputs": [
    {
     "name": "stdout",
     "output_type": "stream",
     "text": [
      "Model: \"sequential_4\"\n",
      "_________________________________________________________________\n",
      " Layer (type)                Output Shape              Param #   \n",
      "=================================================================\n",
      " conv2d_2 (Conv2D)           (None, 61, 61, 32)        1568      \n",
      "                                                                 \n",
      " max_pooling2d_2 (MaxPooling  (None, 30, 30, 32)       0         \n",
      " 2D)                                                             \n",
      "                                                                 \n",
      " conv2d_3 (Conv2D)           (None, 28, 28, 64)        18496     \n",
      "                                                                 \n",
      " max_pooling2d_3 (MaxPooling  (None, 14, 14, 64)       0         \n",
      " 2D)                                                             \n",
      "                                                                 \n",
      " flatten_1 (Flatten)         (None, 12544)             0         \n",
      "                                                                 \n",
      " dense_12 (Dense)            (None, 64)                802880    \n",
      "                                                                 \n",
      " dense_13 (Dense)            (None, 10)                650       \n",
      "                                                                 \n",
      "=================================================================\n",
      "Total params: 823,594\n",
      "Trainable params: 823,594\n",
      "Non-trainable params: 0\n",
      "_________________________________________________________________\n"
     ]
    }
   ],
   "source": [
    "cnn.summary()"
   ]
  },
  {
   "cell_type": "code",
   "execution_count": 46,
   "id": "343fe08b",
   "metadata": {},
   "outputs": [
    {
     "name": "stdout",
     "output_type": "stream",
     "text": [
      "[0.8909090757369995, 0.9690909385681152, 0.9581056237220764]\n",
      "[1.6623615026474, 1.664803385734558, 1.6971402168273926]\n",
      "[<keras.engine.sequential.Sequential object at 0x0000015E8AF3B8B0>, <keras.engine.sequential.Sequential object at 0x0000015E8AF3B8B0>, <keras.engine.sequential.Sequential object at 0x0000015E8AF3B8B0>]\n"
     ]
    }
   ],
   "source": [
    "print(scoresModel3)\n",
    "print(f11)\n",
    "print(histories3)"
   ]
  },
  {
   "cell_type": "code",
   "execution_count": 47,
   "id": "d608288e",
   "metadata": {},
   "outputs": [
    {
     "data": {
      "text/plain": [
       "SVC(kernel='linear', probability=True, random_state=42)"
      ]
     },
     "execution_count": 47,
     "metadata": {},
     "output_type": "execute_result"
    }
   ],
   "source": [
    "from sklearn.svm import SVC\n",
    "\n",
    "svm = SVC(kernel='linear', probability=True, random_state=42)\n",
    "x_train2  = x_train2.reshape(len(x_train2),64*64*3)\n",
    "# fit model\n",
    "svm.fit(x_train2, y_train2)\n"
   ]
  },
  {
   "cell_type": "code",
   "execution_count": 48,
   "id": "137ba695",
   "metadata": {},
   "outputs": [
    {
     "name": "stdout",
     "output_type": "stream",
     "text": [
      "Model SVM accuracy is:  0.8111380145278451\n"
     ]
    }
   ],
   "source": [
    "from sklearn.metrics import accuracy_score\n",
    "x_test2 = x_test2.reshape(len(x_test2),64*64*3)\n",
    "y_predd = svm.predict(x_test2)\n",
    "\n",
    "# calculate accuracy\n",
    "accuracy = accuracy_score(y_test2, y_predd)\n",
    "print('Model SVM accuracy is: ', accuracy)\n"
   ]
  },
  {
   "cell_type": "code",
   "execution_count": 49,
   "id": "f9937c42",
   "metadata": {},
   "outputs": [
    {
     "name": "stdout",
     "output_type": "stream",
     "text": [
      "[0.8909090757369995, 0.9690909385681152, 0.9581056237220764]\n"
     ]
    }
   ],
   "source": [
    "print(scoresModel3)"
   ]
  },
  {
   "cell_type": "code",
   "execution_count": null,
   "id": "7d7c23e1",
   "metadata": {},
   "outputs": [],
   "source": []
  }
 ],
 "metadata": {
  "kernelspec": {
   "display_name": "Python 3 (ipykernel)",
   "language": "python",
   "name": "python3"
  },
  "language_info": {
   "codemirror_mode": {
    "name": "ipython",
    "version": 3
   },
   "file_extension": ".py",
   "mimetype": "text/x-python",
   "name": "python",
   "nbconvert_exporter": "python",
   "pygments_lexer": "ipython3",
   "version": "3.9.13"
  },
  "vscode": {
   "interpreter": {
    "hash": "4fd2609a31ccce37eb6c2c21abac1ac753f697883cf8c1e72a554f0bec890428"
   }
  }
 },
 "nbformat": 4,
 "nbformat_minor": 5
}
